{
 "cells": [
  {
   "cell_type": "code",
   "execution_count": 1, a86bc482a54721a675d10a33c6c3962c83f7aba5
   "metadata": {},
   "outputs": [],
   "source": [
    "### READING FILES\n",
    "\n",
    "from pathlib import Path\n",
    "\n",
    "p = Path('./2 - English')\n",
    "\n",
    "allMusicLyrics = []\n",
    "\n",
    "allMusicFiles = list(p.glob('**/*.txt'))\n",
    "\n",
    "print('Amount of music files: ', len(allMusicFiles))\n",
    "\n",
    "for file in allMusicFiles:\n",
    "    with file.open() as f:\n",
    "        allMusicLyrics.append(f.read().replace('\\n', ' '))"
   ]
  },
  {
   "cell_type": "code",
   "execution_count": 2, a86bc482a54721a675d10a33c6c3962c83f7aba5
   "metadata": {},
   "outputs": [],
   "source": [
    "### DOING BAG OF WORDS PROCESS\n",
    "\n",
    "from sklearn.feature_extraction.text import CountVectorizer\n",
    "\n",
    "vectorizer = CountVectorizer()\n",
    "\n",
    "bagOfWordsResult = vectorizer.fit_transform(allMusicLyrics)\n",
    "\n",
    "print('Size of feature names: ', len(vectorizer.get_feature_names()))\n",
    "print(vectorizer.get_feature_names())\n",
    "print(vectorizer.vocabulary_)\n",
    "print(bagOfWordsResult.toarray())"
   ]
  },
  {
   "cell_type": "code",
   "execution_count": 20,
   "metadata": {},
   "outputs": [
    {
     "name": "stdout",
     "output_type": "stream",
     "text": [
      "[ 8.42356844  7.1018126  10.21532791 ... 10.21532791 10.21532791\n",
      " 10.21532791]\n",
      "[0. 0. 0. ... 0. 0. 0.]\n"
     ]
    }
   ],
a86bc482a54721a675d10a33c6c3962c83f7aba5
   "source": [
    "### TF TF-IDF\n",
    "\n",
    "from sklearn.feature_extraction.text import TfidfTransformer\n",
    "transformer = TfidfTransformer()\n",
    "\n",
    "tfidf = transformer.fit_transform(bagOfWordsResult)\n",
    "normalizedResult = tfidf.toarray()\n",
    "\n",
    "print(transformer.idf_) ### Feature witghts\n",
    "print(tfidf.toarray()) ### Normalized values"
   ]
  },
  {
   "cell_type": "code",
   "execution_count": null,
   "metadata": {},
   "outputs": [],
   "source": [
    "### GROUPING (KMEANS)\n",
    "## Configuring number of centroids\n",
    "from sklearn.cluster import KMeans\n",
    "\n",
    "kmeans = KMeans(n_clusters = 16)"
   ]
  },
  {
   "cell_type": "code",
   "execution_count": null,
   "metadata": {},
   "outputs": [],
   "source": [
    "## Grouping\n",
    "kmeans.fit(normalizedResult)\n",
    "\n",
    "kmeans.predict(normalizedResult)"
   ]
  }
 ],
 "metadata": {
  "kernelspec": {
   "display_name": "Python 3",
   "language": "python",
   "name": "python3"
  },
  "language_info": {
   "codemirror_mode": {
    "name": "ipython",
    "version": 3
   },
   "file_extension": ".py",
   "mimetype": "text/x-python",
   "name": "python",
   "nbconvert_exporter": "python",
   "pygments_lexer": "ipython3",
   "version": "3.6.5"
  }
 },
 "nbformat": 4,
 "nbformat_minor": 2
}
