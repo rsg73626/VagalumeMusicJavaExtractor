{
 "cells": [
  {
   "cell_type": "code",
   "execution_count": null,
   "metadata": {},
   "outputs": [],
   "source": [
    "### READING FILES\n",
    "\n",
    "from pathlib import Path\n",
    "\n",
    "p = Path('./2 - English')\n",
    "\n",
    "allMusicLyrics = []\n",
    "\n",
    "allMusicFiles = list(p.glob('**/*.txt'))\n",
    "\n",
    "print('Amount of music files: ', len(allMusicFiles))\n",
    "\n",
    "for file in allMusicFiles:\n",
    "    with file.open() as f:\n",
    "        allMusicLyrics.append(f.read().replace('\\n', ' '))"
   ]
  },
  {
   "cell_type": "code",
   "execution_count": null,
   "metadata": {},
   "outputs": [],
   "source": [
    "### DOING BAG OF WORDS PROCESS\n",
    "\n",
    "from sklearn.feature_extraction.text import CountVectorizer\n",
    "\n",
    "vectorizer = CountVectorizer()\n",
    "\n",
    "bagOfWordsResult = vectorizer.fit_transform(allMusicLyrics)\n",
    "\n",
    "print('Size of feature names: ', len(vectorizer.get_feature_names()))\n",
    "print(vectorizer.get_feature_names())\n",
    "print(vectorizer.vocabulary_)\n",
    "print(bagOfWordsResult.toarray())"
   ]
  },
  {
   "cell_type": "code",
   "execution_count": null,
   "metadata": {
    "scrolled": true
   },
   "outputs": [],
   "source": [
    "### TF TF-IDF\n",
    "\n",
    "from sklearn.feature_extraction.text import TfidfTransformer\n",
    "transformer = TfidfTransformer()\n",
    "\n",
    "tfidf = transformer.fit_transform(bagOfWordsResult)\n",
    "normalizedResult = tfidf.toarray()\n",
    "\n",
    "print(transformer.idf_) ### Feature witghts\n",
    "print(tfidf.toarray()) ### Normalized values"
   ]
  },
  {
   "cell_type": "code",
   "execution_count": null,
   "metadata": {},
   "outputs": [],
   "source": [
    "### GROUPING (KMEANS)\n",
    "## Configuring number of centroids\n",
    "from sklearn.cluster import KMeans\n",
    "\n",
    "kmeans = KMeans(n_clusters = 16)"
   ]
  },
  {
   "cell_type": "code",
   "execution_count": null,
   "metadata": {},
   "outputs": [],
   "source": [
    "## Grouping\n",
    "kmeans.fit(normalizedResult)\n",
    "\n",
    "kmeans.predict(normalizedResult)"
   ]
  }
 ],
 "metadata": {
  "kernelspec": {
   "display_name": "Python 3",
   "language": "python",
   "name": "python3"
  },
  "language_info": {
   "codemirror_mode": {
    "name": "ipython",
    "version": 3
   },
   "file_extension": ".py",
   "mimetype": "text/x-python",
   "name": "python",
   "nbconvert_exporter": "python",
   "pygments_lexer": "ipython3",
   "version": "3.6.5"
  }
 },
 "nbformat": 4,
 "nbformat_minor": 2
}
