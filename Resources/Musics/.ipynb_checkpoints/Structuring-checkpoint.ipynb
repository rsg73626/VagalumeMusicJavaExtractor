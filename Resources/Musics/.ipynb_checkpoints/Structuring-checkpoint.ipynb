{
 "cells": [
  {
   "cell_type": "code",
   "execution_count": 304,
   "metadata": {},
   "outputs": [
    {
     "name": "stdout",
     "output_type": "stream",
     "text": [
      "Amount of music files:  1000\n"
     ]
    },
    {
     "ename": "AttributeError",
     "evalue": "'PosixPath' object has no attribute 'close'",
     "output_type": "error",
     "traceback": [
      "\u001b[0;31m---------------------------------------------------------------------------\u001b[0m",
      "\u001b[0;31mAttributeError\u001b[0m                            Traceback (most recent call last)",
      "\u001b[0;32m<ipython-input-304-bdb24e24145f>\u001b[0m in \u001b[0;36m<module>\u001b[0;34m()\u001b[0m\n\u001b[1;32m     16\u001b[0m     \u001b[0;32mwith\u001b[0m \u001b[0mfile\u001b[0m\u001b[0;34m.\u001b[0m\u001b[0mopen\u001b[0m\u001b[0;34m(\u001b[0m\u001b[0;34m)\u001b[0m \u001b[0;32mas\u001b[0m \u001b[0mf\u001b[0m\u001b[0;34m:\u001b[0m\u001b[0;34m\u001b[0m\u001b[0m\n\u001b[1;32m     17\u001b[0m         \u001b[0mallMusicLyrics\u001b[0m\u001b[0;34m.\u001b[0m\u001b[0mappend\u001b[0m\u001b[0;34m(\u001b[0m\u001b[0mf\u001b[0m\u001b[0;34m.\u001b[0m\u001b[0mread\u001b[0m\u001b[0;34m(\u001b[0m\u001b[0;34m)\u001b[0m\u001b[0;34m.\u001b[0m\u001b[0mreplace\u001b[0m\u001b[0;34m(\u001b[0m\u001b[0;34m'\\n'\u001b[0m\u001b[0;34m,\u001b[0m \u001b[0;34m' '\u001b[0m\u001b[0;34m)\u001b[0m\u001b[0;34m)\u001b[0m\u001b[0;34m\u001b[0m\u001b[0m\n\u001b[0;32m---> 18\u001b[0;31m         \u001b[0mfile\u001b[0m\u001b[0;34m.\u001b[0m\u001b[0mclose\u001b[0m\u001b[0;34m(\u001b[0m\u001b[0;34m)\u001b[0m\u001b[0;34m\u001b[0m\u001b[0m\n\u001b[0m",
      "\u001b[0;31mAttributeError\u001b[0m: 'PosixPath' object has no attribute 'close'"
     ]
    }
   ],
   "source": [
    "from pathlib import Path\n",
    "\n",
    "### READING FILES\n",
    "p = Path('./2 - English')\n",
    "\n",
    "allMusicLyrics = []\n",
    "\n",
    "allMusicFiles = list(p.glob('**/*.txt'))\n",
    "\n",
    "## Getting a sample with 1000 musics\n",
    "allMusicFiles = allMusicFiles[0:1000]\n",
    "\n",
    "print('Amount of music files: ', len(allMusicFiles))\n",
    "\n",
    "for file in allMusicFiles:\n",
    "    with file.open() as f:\n",
    "        allMusicLyrics.append(f.read().replace('\\n', ' '))\n",
    "        f.close()"
   ]
  },
  {
   "cell_type": "code",
   "execution_count": null,
   "metadata": {},
   "outputs": [],
   "source": [
    "from sklearn.feature_extraction.text import CountVectorizer\n",
    "\n",
    "### DOING BAG OF WORDS PROCESS\n",
    "vectorizer = CountVectorizer()\n",
    "bagOfWordsResult = vectorizer.fit_transform(allMusicLyrics)\n",
    "\n",
    "print(vectorizer.get_feature_names())\n",
    "print(vectorizer.vocabulary_)\n",
    "print(bagOfWordsResult.toarray())"
   ]
  },
  {
   "cell_type": "code",
   "execution_count": null,
   "metadata": {},
   "outputs": [],
   "source": [
    "from sklearn.feature_extraction.text import TfidfTransformer\n",
    "\n",
    "### TF TF-IDF\n",
    "transformer = TfidfTransformer()\n",
    "\n",
    "tfidf = transformer.fit_transform(bagOfWordsResult)\n",
    "normalizedResult = tfidf.toarray()\n",
    "\n",
    "print(transformer.idf_) ### Feature weitghts\n",
    "print(tfidf.toarray()) ### Normalized values"
   ]
  },
  {
   "cell_type": "code",
   "execution_count": null,
   "metadata": {},
   "outputs": [],
   "source": [
    "from sklearn.cluster import KMeans\n",
    "\n",
    "### GROUPING (KMEANS)\n",
    "kmeans = KMeans(n_clusters = 4).fit(normalizedResult)\n",
    "results = kmeans.predict(normalizedResult)\n",
    "\n",
    "print('Centroides: ', kmeans.cluster_centers_)\n",
    "print('Classificações: ', results)"
   ]
  },
  {
   "cell_type": "code",
   "execution_count": null,
   "metadata": {},
   "outputs": [],
   "source": [
    "##Writing music classification - file name in the txt file\n",
    "f = open('./kmeans_result.txt', 'w')\n",
    "\n",
    "st = [''] * 1000\n",
    "\n",
    "for i in range(0, 1000):\n",
    "    st[i] = str(results[i])+' - '+str(allMusicFiles[i])+'\\n'\n",
    "\n",
    "st.sort()\n",
    "    \n",
    "for s in st:\n",
    "    f.write(s)\n",
    "    \n",
    "f.close()"
   ]
  },
  {
   "cell_type": "code",
   "execution_count": null,
   "metadata": {},
   "outputs": [],
   "source": []
  }
 ],
 "metadata": {
  "kernelspec": {
   "display_name": "Python 3",
   "language": "python",
   "name": "python3"
  },
  "language_info": {
   "codemirror_mode": {
    "name": "ipython",
    "version": 3
   },
   "file_extension": ".py",
   "mimetype": "text/x-python",
   "name": "python",
   "nbconvert_exporter": "python",
   "pygments_lexer": "ipython3",
   "version": "3.6.5"
  }
 },
 "nbformat": 4,
 "nbformat_minor": 2
}
